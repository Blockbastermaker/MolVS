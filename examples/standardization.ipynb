{
 "metadata": {
  "name": "",
  "signature": "sha256:bffaf8a7d585bfd4c76f1a7f2e9eb361383db7f314231b1665b299a08861b263"
 },
 "nbformat": 3,
 "nbformat_minor": 0,
 "worksheets": [
  {
   "cells": [
    {
     "cell_type": "markdown",
     "metadata": {},
     "source": [
      "# Standardization\n",
      "\n",
      "Here are some examples of how to standardize molecules.\n",
      "\n",
      "First set our iPython notebook to display molecule images and log messages:"
     ]
    },
    {
     "cell_type": "code",
     "collapsed": false,
     "input": [
      "from rdkit.Chem.Draw import IPythonConsole\n",
      "import logging\n",
      "logger = logging.getLogger('molvs')\n",
      "logger.setLevel(logging.INFO)"
     ],
     "language": "python",
     "metadata": {},
     "outputs": [],
     "prompt_number": 1
    },
    {
     "cell_type": "markdown",
     "metadata": {},
     "source": [
      "## Standardizing a SMILES string\n",
      "\n",
      "The `standardize_smiles` function provides a quick and easy way to get the standardized version of a given SMILES string:"
     ]
    },
    {
     "cell_type": "code",
     "collapsed": false,
     "input": [
      "from molvs import standardize_smiles\n",
      "standardize_smiles('C[n+]1c([N-](C))cccc1')"
     ],
     "language": "python",
     "metadata": {},
     "outputs": [
      {
       "output_type": "stream",
       "stream": "stderr",
       "text": [
        "INFO:molvs.normalize:Rule applied: Recombine 1,3-separated charges\n"
       ]
      },
      {
       "metadata": {},
       "output_type": "pyout",
       "prompt_number": 2,
       "text": [
        "'CN=c1ccccn1C'"
       ]
      }
     ],
     "prompt_number": 2
    },
    {
     "cell_type": "markdown",
     "metadata": {},
     "source": [
      "While this is convenient for one-off cases, it's inefficient when dealing with multiple molecules and doesn't allow any customization of the standardization process.\n",
      "\n",
      "## The Standardizer class\n",
      "\n",
      "The `Standardizer` class provides flexibility to specify custom standardization stages and efficiently standardize multiple molecules."
     ]
    },
    {
     "cell_type": "code",
     "collapsed": false,
     "input": [
      "from rdkit import Chem\n",
      "import molvs\n",
      "from molvs import Standardizer"
     ],
     "language": "python",
     "metadata": {},
     "outputs": [],
     "prompt_number": 3
    },
    {
     "cell_type": "code",
     "collapsed": false,
     "input": [
      "mol = Chem.MolFromSmiles('[Na]OC(=O)c1ccc(C[S+2]([O-])([O-]))cc1')\n",
      "mol"
     ],
     "language": "python",
     "metadata": {},
     "outputs": [
      {
       "metadata": {},
       "output_type": "pyout",
       "png": "[encoded data removed]",
       "prompt_number": 4,
       "text": [
        "<rdkit.Chem.rdchem.Mol at 0x1108ac6e0>"
       ]
      }
     ],
     "prompt_number": 4
    },
    {
     "cell_type": "code",
     "collapsed": false,
     "input": [
      "s = Standardizer()\n",
      "smol = s.standardize(mol)\n",
      "smol"
     ],
     "language": "python",
     "metadata": {},
     "outputs": [
      {
       "output_type": "stream",
       "stream": "stderr",
       "text": [
        "INFO:molvs.metal:Removed covalent bond between Na and O\n"
       ]
      },
      {
       "output_type": "stream",
       "stream": "stderr",
       "text": [
        "INFO:molvs.normalize:Rule applied: Sulfone to S(=O)(=O)\n"
       ]
      },
      {
       "metadata": {},
       "output_type": "pyout",
       "png": "[encoded data removed]",
       "prompt_number": 5,
       "text": [
        "<rdkit.Chem.rdchem.Mol at 0x110e2e980>"
       ]
      }
     ],
     "prompt_number": 5
    },
    {
     "cell_type": "code",
     "collapsed": false,
     "input": [
      "Chem.MolToSmiles(smol)"
     ],
     "language": "python",
     "metadata": {},
     "outputs": [
      {
       "metadata": {},
       "output_type": "pyout",
       "prompt_number": 6,
       "text": [
        "'[Na+].O=C([O-])c1ccc(CS(=O)=O)cc1'"
       ]
      }
     ],
     "prompt_number": 6
    },
    {
     "cell_type": "markdown",
     "metadata": {},
     "source": [
      "The `Standardizer` class takes a number of initialization parameters to customize its behaviour:"
     ]
    },
    {
     "cell_type": "code",
     "collapsed": false,
     "input": [
      "from molvs.normalize import Normalization\n",
      "norms = (\n",
      "    Normalization('Nitro to N+(O-)=O', '[*:1][N,P,As,Sb:2](=[O,S,Se,Te:3])=[O,S,Se,Te:4]>>[*:1][*+1:2]([*-1:3])=[*:4]'),\n",
      "    Normalization('Pyridine oxide to n+O-', '[n:1]=[O:2]>>[n+:1][O-:2]'),\n",
      ")\n",
      "\n",
      "my_s = Standardizer(normalizations=norms)\n",
      "smol = my_s.standardize(mol)\n",
      "smol"
     ],
     "language": "python",
     "metadata": {},
     "outputs": [
      {
       "output_type": "stream",
       "stream": "stderr",
       "text": [
        "INFO:molvs.metal:Removed covalent bond between Na and O\n"
       ]
      },
      {
       "metadata": {},
       "output_type": "pyout",
       "png": "[encoded data removed]",
       "prompt_number": 7,
       "text": [
        "<rdkit.Chem.rdchem.Mol at 0x110e2ea60>"
       ]
      }
     ],
     "prompt_number": 7
    },
    {
     "cell_type": "markdown",
     "metadata": {},
     "source": [
      "Notice that the sulfone group wasn't normalized in this case, because when initializing the Standardizer we only specified two Normalizations.\n",
      "\n",
      "The default list of normalizations is `molvs.normalize.NORMALIZATIONS`.\n",
      "\n",
      "It is possible to resuse a Standardizer instance on many molecules once it has been initialized with some parameters:"
     ]
    },
    {
     "cell_type": "code",
     "collapsed": false,
     "input": [
      "my_s.standardize(Chem.MolFromSmiles('C1=C(C=C(C(=C1)O)C(=O)[O-])[S](O)(=O)=O.[Na+]'))"
     ],
     "language": "python",
     "metadata": {},
     "outputs": [
      {
       "output_type": "stream",
       "stream": "stderr",
       "text": [
        "INFO:molvs.charge:Moved proton from \u2013SO3H to -CO2H\n"
       ]
      },
      {
       "metadata": {},
       "output_type": "pyout",
       "png": "[encoded data removed]",
       "prompt_number": 8,
       "text": [
        "<rdkit.Chem.rdchem.Mol at 0x110e2ef30>"
       ]
      }
     ],
     "prompt_number": 8
    },
    {
     "cell_type": "code",
     "collapsed": false,
     "input": [
      "my_s.standardize(Chem.MolFromSmiles('[Ag]OC(=O)O[Ag]'))"
     ],
     "language": "python",
     "metadata": {},
     "outputs": [
      {
       "output_type": "stream",
       "stream": "stderr",
       "text": [
        "INFO:molvs.metal:Removed covalent bond between Ag and O\n"
       ]
      },
      {
       "output_type": "stream",
       "stream": "stderr",
       "text": [
        "INFO:molvs.metal:Removed covalent bond between Ag and O\n"
       ]
      },
      {
       "metadata": {},
       "output_type": "pyout",
       "png": "[encoded data removed]",
       "prompt_number": 9,
       "text": [
        "<rdkit.Chem.rdchem.Mol at 0x110e2efa0>"
       ]
      }
     ],
     "prompt_number": 9
    }
   ],
   "metadata": {}
  }
 ]
}